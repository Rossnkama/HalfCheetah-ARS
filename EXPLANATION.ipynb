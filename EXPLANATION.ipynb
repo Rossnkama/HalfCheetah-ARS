{
 "cells": [
  {
   "cell_type": "markdown",
   "metadata": {},
   "source": [
    "# Method of finite differences\n",
    "The first thing to be understood is that ARS is a shallow layering algorithm where we're only going to approximate gradients, differing a lot to how we'd calcualte gradients in traditional gradient descent.\n",
    "\n",
    "**Before we'd say that:**  \n",
    "$\\hspace{2cm} \\Delta w = -\\alpha \\dfrac{\\partial\\epsilon}{\\partial w_{ij}}$\n",
    "$\\hspace{5.3cm}$ *Where epsilon = error function, alpha = learning rate and w = weight*  \n",
    "  \n",
    "  \n",
    "**But now:**  \n",
    "$\\hspace{2cm} \\Delta w = \\dfrac{\\alpha}{N} \\sum \\limits_{k=1}^{N} [r(\\pi_{j,k,+}) - r(\\pi_{j,k,-})] \\delta_k$\n",
    "$\\hspace{1.8cm}$ *Where N = Number of directions sampled per iteration, r = reward, v = standard deviation of the  \n",
    "$\\hspace{10.2cm}$ exploration noise, $\\delta$ = pertubation matrix (explained below)*\n",
    "\n",
    "**as**  \n",
    "$\\hspace{2cm} f^\\prime(x) \\approx \\lim\\limits_{h\\to 0} \\dfrac{f(x + h) - f(x)}{h}$  \n",
    "  \n",
    "So how this works is that the gradient of the reward w.r.t the weights is approximated through the calculated difference of rewards of very small perturbations of opposite directions (Method of finite differences). We use the finite difference of the rewards in 2 opposite directions by applying very small perturbations.\n",
    "  \n",
    "Now suppose we had a perceptron with:  \n",
    "- 3 input values\n",
    "- 2 output values\n",
    "- Therefore 3 x 2 = 6 weights between the 6 synaptic connections\n",
    "\n",
    "**Our matrix of weights will then be shaped as:**  \n",
    "\n",
    "$\\begin{bmatrix}\n",
    "    w_{1,1}, & w_{1,2} \\\\\n",
    "    w_{2,1}, & w_{2,2} \\\\\n",
    "    w_{3,1}, & w_{3,2} \\\\\n",
    "\\end{bmatrix}$  \n",
    "  \n",
    "**And our matrix of positively perturbed weights will be:**  \n",
    "\n",
    "$\\begin{bmatrix}\n",
    "    w_{1,1} + kp, & w_{1,2} + kp \\\\\n",
    "    w_{2,1} + kp, & w_{2,2} + kp\\\\\n",
    "    w_{3,1} + kp, & w_{3,2} + kp\\\\\n",
    "\\end{bmatrix}$  \n",
    "  \n",
    "**With negatively perturbed weights being:**  \n",
    "\n",
    "$\\begin{bmatrix}\n",
    "    w_{1,1} - kp, & w_{1,2} - kp\\\\\n",
    "    w_{2,1} - kp, & w_{2,2} - kp\\\\\n",
    "    w_{3,1} - kp, & w_{3,2} - kp\\\\\n",
    "\\end{bmatrix}$  \n",
    "\n",
    "*$p$ is a random number between 0 and 1, perturbing the weights and $k$ is the exploration noise.*   \n",
    "  \n",
    ">\"Parameter noise lets us teach agents tasks much more rapidly than with other approaches. After learning for 20 episodes on the HalfCheetah Gym environment (shown above), the policy achieves a score of around 3,000, whereas a policy trained with traditional action noise only achieves around 1,500.\" - https://blog.openai.com/better-exploration-with-parameter-noise/\n",
    "\n",
    "In this program we'll generate 16 instances of positively and negitively perturbed weights so for generalisation purposes, a - p as p is the $16^{th}$ letter in the alphabet. And each matrice of weights on the AI will have it's own sample of episodes which will be averaged out at the end of training."
   ]
  },
  {
   "cell_type": "markdown",
   "metadata": {},
   "source": [
    "### Updating weights with method of finite differences\n",
    "$w = w_{prev} + \\alpha ((Reward_{a-pos} - Reward_{a-neg}) \\times \\delta{_a}$\n",
    "              $ + (Reward_{b-pos} - Reward_{b-neg}) \\times \\delta{_b}$\n",
    "              $ + (Reward_{c-pos} - Reward_{c-neg}) \\times \\delta{_c}$\n",
    "              $\\dots$\n",
    "              $ + (Reward_{p-pos} - Reward_{p-neg}) \\times \\delta{_p})$  \n",
    "              \n",
    "$\\delta{_x}$ are the small added/subtracted values which are used to perturbate weights $x$ - it's the perturbation matrix.\n",
    "\n",
    "$\\alpha$ is the learning rate divided by the number of perturbations."
   ]
  },
  {
   "cell_type": "markdown",
   "metadata": {},
   "source": [
    "So we can think of the first example like this:  \n",
    "$w = w_{prev} + ((Reward_{a-pos} \\times \\delta{_a}) - (Reward_{a-neg} \\times \\delta{_a}))$"
   ]
  },
  {
   "cell_type": "markdown",
   "metadata": {},
   "source": [
    "Expanding out the expression, we can think of the $Reward_{x-posOrNeg}$ as a coefficient to the perturbation matrix $\\delta{_x}$ which prevents $w_{prev}$ from being multiplied by zero because if it was the case that:\n",
    "\n",
    "$w = w_{prev} + ((a_{pos} - a_{neg}) \\times \\delta{_a})$\n",
    "\n",
    "We'd have an issue where $a_{pos}$ and $a_{neg}$ would cancel out. But in doing it the way initially portayed above by looking at the rewards gotten by different perturbations, we can then move the new weight in the direction of the better reward as, $((Reward_{a-pos} \\times \\delta{_a}) - (Reward_{a-neg} \\times \\delta{_a}))$ provides a vector value with both magnitude and direction being a coefficient to the perturbation matrix."
   ]
  },
  {
   "cell_type": "markdown",
   "metadata": {},
   "source": [
    "# Basic vs Augmented Random Search"
   ]
  },
  {
   "cell_type": "markdown",
   "metadata": {},
   "source": [
    "There were three main updates done in ARS which make it \"augmented\":\n",
    "1. Scaling update step by standard deviation of rewards.\n",
    "2. Online normalisation of states.\n",
    "3. Discarding directions that yield lowest rewards.  \n",
    "\n",
    "1) **This is simply taking the equation gotten at earlier, where:**   \n",
    "$w = w_{prev} + \\alpha ((Reward_{a-pos} - Reward_{a-neg}) \\times \\delta{_a}$\n",
    "              $ + (Reward_{b-pos} - Reward_{b-neg}) \\times \\delta{_b}$\n",
    "              $ + (Reward_{c-pos} - Reward_{c-neg}) \\times \\delta{_c}$\n",
    "              $\\dots$\n",
    "              $ + (Reward_{p-pos} - Reward_{p-neg}) \\times \\delta{_p})$ \n",
    "              \n",
    "And then dividing it by the standard deviation of rewards involved.  \n",
    "  \n",
    "As explained in section 3.1 of the research paper, standard deviation scaling accounts from the large variance that is had from a random search in the parameter space of policies making it difficult to choose an optimal learning rate $\\alpha$.  \n",
    "  \n",
    "2) **Online normalisation of states:**  \n",
    "This is where the information of our agent's state (the signals into the input neurons) will be normalised in real time as the agent is learning and navigating throught it's environment. We will normalise the values not only based off of what they are but also based off of what the network has already seen to account for the stochastic nature of the environment.\n",
    "\n",
    "This is because changing weights by a factor of maybe 0.1 will have a much larger effect on a signal of magnitude 100 compared to a signal of magnitude 1 and therefore a drastic change in the output (this is made worse because we're using shallow layering).\n",
    "\n",
    "So without normalisation, the slightest change in weights could have a huge and undersired different magnitude of impact on the output value of our network. This is one of the big updates which helped ARS be able to take on the challange of training a virtual humanoid in how to walk.\n",
    "\n",
    "3) **Discarding directions that yield lowest rewards:**  \n",
    "Here we create a heirachy of the top $k$ rewards w.r.t their associated perturbation matrixes meaning that the weights will only evolve in the directions of the perturbation matrixes observed to be most successful. \n",
    "  \n",
    "E.g.  \n",
    "$w = w_{prev} + \\alpha \\cdot ((Reward_{a-pos} - Reward_{a-neg}) \\times \\delta{_a}$\n",
    "              $+ (Reward_{b-pos} - Reward_{b-neg}) \\times \\delta{_b}$\n",
    "              $+ (Reward_{p-pos} - Reward_{p-neg}) \\times \\delta{_d})$\n",
    "  \n",
    "This is one way which we can start optimising our weights once we discard step vectors $c$, and all other weights in between $d$ and $p$."
   ]
  },
  {
   "cell_type": "markdown",
   "metadata": {},
   "source": [
    "# Why ARS? (ARS vs other AI)"
   ]
  },
  {
   "cell_type": "markdown",
   "metadata": {},
   "source": [
    "1. ARS performs exploration in the policy space where other AI's perform exploration in the action space.\n",
    "2. Method of finite differences vs Gradient descent.\n",
    "3. Perceptron based shallow learning vs deep learning.\n",
    "\n",
    "1) What this means is that rewards are accumilated throughout the entire episode into a total reward and then looks at the total reward after the episode. This is in contrast to other AIs which will update the weights after each action. So we're exploring the whole episode meaning that we're exploring the policy space. Whereas with other AIs we would be exploring the actions and therefore the action space.\n",
    "  \n",
    "2) As ARS assesses policy space, we don't have a value function gotten from an action space and so we can't have a loss function to backpropagate against which is why we can't use gradient descent. However, ARS still gives a good enough approximation of the gradient without being as computationally expensive as discussed in the paper.\n",
    "\n",
    "3) There are no hidden layers, the input layer is connected directly to the output layer, it's simpler and less involved.\n",
    "  \n",
    "You would think ARS wouldn't perform as well as other methods of creating AIs but it actually performs a lot better in many cases despite being so much less involved. It approximates gradients, assessess policy space rather than action space and begins with a random search.\n",
    "  \n",
    "Yet dispite this, the paper shows that ARS can perform up to 15$\\times$ faster and will yield higher rewards than other methods in lots of specific cases."
   ]
  },
  {
   "cell_type": "markdown",
   "metadata": {},
   "source": [
    "## Updating the weights with method of finite differences (Heart of ARS algorithm)\n",
    "*New weight matrix* = $\\theta_{j+1} = \\theta_{j} + \\dfrac{\\alpha}{b \\cdot \\sigma_{r}} \\sum \\limits_{k=1}^{N} [r(\\pi_{j,k,+}) - r(\\pi_{j,k,-})] \\delta_k$\n",
    "\n",
    "Unlike gradient descent, we don't need to and can't use an error function due to ARS evaluations the policy space as opposed to the action state which means that we can't work out the Q-Values of states and therefore temportal differences.\n",
    "\n",
    "So instead of minimising a loss function, we will instead directly have access to the rewards and so we can try to maximise the rewards instead updating our gradient in the direction of perterbutions that yield the most lucrative rewards."
   ]
  }
 ],
 "metadata": {
  "kernelspec": {
   "display_name": "Python 2",
   "language": "python",
   "name": "python2"
  },
  "language_info": {
   "codemirror_mode": {
    "name": "ipython",
    "version": 2
   },
   "file_extension": ".py",
   "mimetype": "text/x-python",
   "name": "python",
   "nbconvert_exporter": "python",
   "pygments_lexer": "ipython2",
   "version": "2.7.15"
  }
 },
 "nbformat": 4,
 "nbformat_minor": 2
}
