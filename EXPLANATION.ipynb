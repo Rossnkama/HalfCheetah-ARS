{
 "cells": [
  {
   "cell_type": "markdown",
   "metadata": {},
   "source": [
    "## <u> Method of finite differences </u>\n",
    "The first thing to be understood is that ARS is a shallow layering algorithm where we're only going to approximate gradients, differing a lot to how we'd calcualte gradients in traditional gradient descent.\n",
    "\n",
    "**Before we'd say that:**  \n",
    "$\\hspace{2cm} \\Delta w = -\\alpha \\dfrac{\\partial \\epsilon}{\\partial w_{ij}}$\n",
    "$\\hspace{5.3cm}$ *Where epsilon = error function, alpha = learning rate and w = weight*  \n",
    "  \n",
    "  \n",
    "**But now:**  \n",
    "$\\hspace{2cm} \\Delta w \\approx -\\alpha \\dfrac{\n",
    "                                                \\epsilon(w_{ij} + pert_{ij}) - \\epsilon(w_{ij})\n",
    "                                             }{\n",
    "                                                 pert_{ij}\n",
    "                                             }$\n",
    "$\\hspace{2cm}$ Where $pert_{ij}$ = the pertubated weight connecting the $i^{th}$ neuron to the $j^{th}$ neuron.  \n",
    "\n",
    "**as**  \n",
    "$\\hspace{2cm} f^\\prime(x) = \\lim\\limits_{h\\to 0} \\dfrac{f(x + h) - f(x)}{h}$"
   ]
  }
 ],
 "metadata": {
  "kernelspec": {
   "display_name": "Python 2",
   "language": "python",
   "name": "python2"
  },
  "language_info": {
   "codemirror_mode": {
    "name": "ipython",
    "version": 2
   },
   "file_extension": ".py",
   "mimetype": "text/x-python",
   "name": "python",
   "nbconvert_exporter": "python",
   "pygments_lexer": "ipython2",
   "version": "2.7.15"
  }
 },
 "nbformat": 4,
 "nbformat_minor": 2
}
