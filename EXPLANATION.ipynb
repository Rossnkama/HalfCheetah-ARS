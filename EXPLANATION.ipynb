{
 "cells": [
  {
   "cell_type": "markdown",
   "metadata": {},
   "source": [
    "# Method of finite differences\n",
    "The first thing to be understood is that ARS is a shallow layering algorithm where we're only going to approximate gradients, differing a lot to how we'd calcualte gradients in traditional gradient descent.\n",
    "\n",
    "**Before we'd say that:**  \n",
    "$\\hspace{2cm} \\Delta w = -\\alpha \\dfrac{\\partial \\epsilon}{\\partial w_{ij}}$\n",
    "$\\hspace{5.3cm}$ *Where epsilon = error function, alpha = learning rate and w = weight*  \n",
    "  \n",
    "  \n",
    "**But now:**  \n",
    "$\\hspace{2cm} \\Delta w \\approx -\\alpha \\dfrac{\n",
    "                                                \\epsilon(w_{ij} + pert_{ij}) - \\epsilon(w_{ij})\n",
    "                                             }{\n",
    "                                                 pert_{ij}\n",
    "                                             }$\n",
    "$\\hspace{2cm}$ Where $pert_{ij}$ = the perturbed weight connecting the $i^{th}$ neuron to the $j^{th}$ neuron.  \n",
    "\n",
    "**as**  \n",
    "$\\hspace{2cm} f^\\prime(x) \\approx \\lim\\limits_{h\\to 0} \\dfrac{f(x + h) - f(x)}{h}$  \n",
    "  \n",
    "So as you can see, the error function is now esimated through the incremental ratio shown above as we also want the perturbed weights, $(pert_{ij})$ to approach 0.  \n",
    "  \n",
    "Now suppose we had a perceptron where with:  \n",
    "- 3 input values\n",
    "- 2 output values\n",
    "- Therefore 3 x 2 = 6 weights between the 6 synaptic connections\n",
    "\n",
    "**Our matrix of weights will then be shaped as:**  \n",
    "\n",
    "$\\begin{bmatrix}\n",
    "    w_{1,1} & w_{1,2} \\\\\n",
    "    w_{2,1} & w_{2,2} \\\\\n",
    "    w_{3,1} & w_{3,2} \\\\\n",
    "\\end{bmatrix}$  \n",
    "  \n",
    "**And our matrix of positively perturbed weights will be:**  \n",
    "\n",
    "$\\begin{bmatrix}\n",
    "    w_{1,1} + \\sigma p, & w_{1,2} + \\sigma p \\\\\n",
    "    w_{2,1} + \\sigma p, & w_{2,2} + \\sigma p \\\\\n",
    "    w_{3,1} + \\sigma p, & w_{3,2} + \\sigma p \\\\\n",
    "\\end{bmatrix}$  \n",
    "  \n",
    "**With negatively perturbed weights being:**  \n",
    "\n",
    "$\\begin{bmatrix}\n",
    "    w_{1,1} - \\sigma p, & w_{1,2} - \\sigma p \\\\\n",
    "    w_{2,1} - \\sigma p, & w_{2,2} - \\sigma p \\\\\n",
    "    w_{3,1} - \\sigma p, & w_{3,2} - \\sigma p \\\\\n",
    "\\end{bmatrix}$  \n",
    "$\\hspace{2cm}$*p is a random number between 0 and 1, pertubing the weights and sigma is the exploration noise.*    \n",
    "In this program we'll generate 16 instances of positively and negitively purturbed weights."
   ]
  },
  {
   "cell_type": "code",
   "execution_count": null,
   "metadata": {},
   "outputs": [],
   "source": []
  },
  {
   "cell_type": "code",
   "execution_count": null,
   "metadata": {},
   "outputs": [],
   "source": []
  },
  {
   "cell_type": "code",
   "execution_count": null,
   "metadata": {},
   "outputs": [],
   "source": []
  }
 ],
 "metadata": {
  "kernelspec": {
   "display_name": "Python 2",
   "language": "python",
   "name": "python2"
  },
  "language_info": {
   "codemirror_mode": {
    "name": "ipython",
    "version": 2
   },
   "file_extension": ".py",
   "mimetype": "text/x-python",
   "name": "python",
   "nbconvert_exporter": "python",
   "pygments_lexer": "ipython2",
   "version": "2.7.15"
  }
 },
 "nbformat": 4,
 "nbformat_minor": 2
}
